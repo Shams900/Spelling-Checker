{
 "cells": [
  {
   "cell_type": "code",
   "execution_count": 1,
   "id": "ca471fb4",
   "metadata": {},
   "outputs": [],
   "source": [
    "class SpellChecker:\n",
    "    # time complexity is O(n), where n is the number of words in the dictionary. \n",
    "    # The space complexity is also O(n), because we are storing the words in a hash table.\n",
    "    def __init__(self, dictionary):\n",
    "        # Store the dictionary in a hash table\n",
    "        self.dictionary = {word: True for word in dictionary}\n",
    "    \n",
    "    # The time complexity is O(n log n), where n is the number of words in the dictionary.\n",
    "    # The space complexity is O(1), because we are only storing a few words in memory.\n",
    "    def nearest_4_words(self, word):\n",
    "        # Check if the word is in the dictionary\n",
    "        if word in self.dictionary:\n",
    "            return []\n",
    "        \n",
    "        # Find the 2 words before and after\n",
    "        before = []\n",
    "        after = []\n",
    "        for dict_word in sorted(self.dictionary.keys()):\n",
    "            if dict_word < word:\n",
    "                before = [dict_word] + before[-1:] if len(before) == 2 else before + [dict_word]\n",
    "            elif dict_word > word and len(after) < 2:\n",
    "                after = after[:1] + [dict_word] if len(after) == 2 else after + [dict_word]\n",
    "        \n",
    "        return before + after\n",
    "    \n",
    "    # time complexity is O(1).\n",
    "    # space complexity is O(n), where n is the size of the dictionary.\n",
    "    def add_word(self, word):\n",
    "        dictionary.append(word)"
   ]
  },
  {
   "cell_type": "code",
   "execution_count": 2,
   "id": "3e5a66a3",
   "metadata": {},
   "outputs": [
    {
     "name": "stdout",
     "output_type": "stream",
     "text": [
      "84099\n"
     ]
    },
    {
     "data": {
      "text/plain": [
       "['a', 'aa', 'aaa', 'aachen', 'aardvark']"
      ]
     },
     "execution_count": 2,
     "metadata": {},
     "output_type": "execute_result"
    }
   ],
   "source": [
    "import chardet\n",
    "\n",
    "# The chardet.detect() function has a time complexity of O(n), where n is the size of the input data.\n",
    "with open(\"dictionary.txt\", \"rb\") as file:\n",
    "    rawdata = file.read()\n",
    "    result = chardet.detect(rawdata)\n",
    "    encoding = result['encoding']\n",
    "    \n",
    "dictionary = list()\n",
    "\n",
    "# O(w), where w is the total number of words in the file which is around 84099. \n",
    "with open(\"dictionary.txt\", \"r\", encoding=encoding, errors=\"ignore\") as file:\n",
    "    for line in file:\n",
    "        words = line.strip().split()\n",
    "        dictionary.extend(words)\n",
    "\n",
    "print(len(dictionary))\n",
    "dictionary[:5]"
   ]
  },
  {
   "cell_type": "code",
   "execution_count": 3,
   "id": "6bb5d674",
   "metadata": {},
   "outputs": [
    {
     "name": "stdout",
     "output_type": "stream",
     "text": [
      "aaaaaa\n",
      "['aaa', 'aa', 'aachen', 'aardvark']\n",
      "84100\n"
     ]
    }
   ],
   "source": [
    "spell_checker = SpellChecker(dictionary)\n",
    "\n",
    "word = input().lower()\n",
    "\n",
    "# Test the nearest_4_words method\n",
    "print(spell_checker.nearest_4_words(word))\n",
    "\n",
    "# Test the add_word method\n",
    "spell_checker.add_word(word)\n",
    "print(len(dictionary))"
   ]
  },
  {
   "cell_type": "code",
   "execution_count": null,
   "id": "d32fa0f7",
   "metadata": {},
   "outputs": [],
   "source": []
  }
 ],
 "metadata": {
  "kernelspec": {
   "display_name": "Python 3 (ipykernel)",
   "language": "python",
   "name": "python3"
  },
  "language_info": {
   "codemirror_mode": {
    "name": "ipython",
    "version": 3
   },
   "file_extension": ".py",
   "mimetype": "text/x-python",
   "name": "python",
   "nbconvert_exporter": "python",
   "pygments_lexer": "ipython3",
   "version": "3.9.12"
  }
 },
 "nbformat": 4,
 "nbformat_minor": 5
}
